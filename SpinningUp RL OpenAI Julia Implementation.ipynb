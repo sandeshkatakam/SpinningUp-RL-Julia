{
 "cells": [
  {
   "attachments": {},
   "cell_type": "markdown",
   "id": "8e614928",
   "metadata": {},
   "source": [
    "# OpenAI SpinningUp RL in Julia "
   ]
  },
  {
   "attachments": {},
   "cell_type": "markdown",
   "id": "a3ff41b4",
   "metadata": {},
   "source": [
    "## Algorithms Implemented:\n",
    "\n",
    "* Vanilla Policy Gradient\n",
    "* \n",
    "\n",
    "### To-do:\n",
    "\n",
    "* Implement State-value function\n",
    "* Implement Action-value function\n",
    "* Implement Policy iteration method\n",
    "* Implement bellman optimality equation\n",
    "* how to solve bellman optimality equation\n",
    "* "
   ]
  }
 ],
 "metadata": {
  "kernelspec": {
   "display_name": "Python 3 (ipykernel)",
   "language": "python",
   "name": "python3"
  },
  "language_info": {
   "codemirror_mode": {
    "name": "ipython",
    "version": 3
   },
   "file_extension": ".py",
   "mimetype": "text/x-python",
   "name": "python",
   "nbconvert_exporter": "python",
   "pygments_lexer": "ipython3",
   "version": "3.9.13"
  }
 },
 "nbformat": 4,
 "nbformat_minor": 5
}
